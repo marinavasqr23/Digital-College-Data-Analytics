{
  "nbformat": 4,
  "nbformat_minor": 0,
  "metadata": {
    "colab": {
      "provenance": [],
      "authorship_tag": "ABX9TyNEPhWZUX9Laa07E49DI1me",
      "include_colab_link": true
    },
    "kernelspec": {
      "name": "python3",
      "display_name": "Python 3"
    },
    "language_info": {
      "name": "python"
    }
  },
  "cells": [
    {
      "cell_type": "markdown",
      "metadata": {
        "id": "view-in-github",
        "colab_type": "text"
      },
      "source": [
        "<a href=\"https://colab.research.google.com/github/marinavasqr23/Digital-College-Data-Analytics/blob/main/aula03_etl_contratos.ipynb\" target=\"_parent\"><img src=\"https://colab.research.google.com/assets/colab-badge.svg\" alt=\"Open In Colab\"/></a>"
      ]
    },
    {
      "cell_type": "markdown",
      "source": [
        "# Projeto de ETL Simplificado com Python\n",
        "\n",
        "**Contexto de problema**: Imagine que somos consultores de dados e estamos tendo que lidar com vários arquivos de contratos.\n",
        "\n",
        "**Proposta**: Criar um sistema que ler vários arquivos, faz análise e gera o arquivo consolidado.\n",
        "\n",
        "Temos:\n",
        "\n",
        "1. Uma tabela de contrato.\n",
        "2. Uma tabela de dados de empresas.\n",
        "3. Uma tabela com dados de datas."
      ],
      "metadata": {
        "id": "CMQxMRT1mqem"
      }
    },
    {
      "cell_type": "markdown",
      "source": [
        "#Setup - Configurando o Ambiente\n"
      ],
      "metadata": {
        "id": "hZlkDEe5oTpV"
      }
    },
    {
      "cell_type": "code",
      "source": [
        "import google.colab.drive\n",
        "google.colab.drive.mount('/content/drive')"
      ],
      "metadata": {
        "colab": {
          "base_uri": "https://localhost:8080/"
        },
        "id": "gqwqwOAloZ4t",
        "outputId": "65302c6e-d495-4654-d6a2-11e166cf1b1e"
      },
      "execution_count": 1,
      "outputs": [
        {
          "output_type": "stream",
          "name": "stdout",
          "text": [
            "Mounted at /content/drive\n"
          ]
        }
      ]
    }
  ]
}
